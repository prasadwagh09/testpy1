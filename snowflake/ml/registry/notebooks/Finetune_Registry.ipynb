{
 "cells": [
  {
   "cell_type": "markdown",
   "id": "fa0e355f",
   "metadata": {},
   "source": [
    "1. Create a conda python3.8 conda env\n",
    "`conda create --name snowml python=3.8`\n",
    "\n",
    "2. You need to install these packages locally\n",
    " * peft \n",
    " * transformers\n"
   ]
  },
  {
   "cell_type": "code",
   "execution_count": null,
   "id": "1ed66db9",
   "metadata": {
    "scrolled": true
   },
   "outputs": [],
   "source": [
    "!pip install /Users/halu/snowml/bazel-bin/snowflake/ml/snowflake_ml_python-1.0.10-py3-none-any.whl"
   ]
  },
  {
   "cell_type": "code",
   "execution_count": 5,
   "id": "292e9f48",
   "metadata": {},
   "outputs": [
    {
     "data": {
      "text/html": [
       "<style>.container { width:100% !important; }</style>"
      ],
      "text/plain": [
       "<IPython.core.display.HTML object>"
      ]
     },
     "metadata": {},
     "output_type": "display_data"
    },
    {
     "name": "stdout",
     "output_type": "stream",
     "text": [
      "The autoreload extension is already loaded. To reload it, use:\n",
      "  %reload_ext autoreload\n"
     ]
    }
   ],
   "source": [
    "from IPython.display import display, HTML\n",
    "display(HTML(\"<style>.container { width:100% !important; }</style>\"))\n",
    "\n",
    "%load_ext autoreload\n",
    "%autoreload 2\n"
   ]
  },
  {
   "cell_type": "code",
   "execution_count": 9,
   "id": "7585077b",
   "metadata": {},
   "outputs": [],
   "source": [
    "from snowflake.snowpark import Session\n",
    "from snowflake.ml.utils.connection_params import SnowflakeLoginOptions"
   ]
  },
  {
   "cell_type": "markdown",
   "id": "7a0294ba",
   "metadata": {},
   "source": [
    "Connection config available at ~/.snowsql/config"
   ]
  },
  {
   "cell_type": "code",
   "execution_count": 10,
   "id": "f876232e",
   "metadata": {},
   "outputs": [
    {
     "name": "stderr",
     "output_type": "stream",
     "text": [
      "SnowflakeLoginOptions() is in private preview since 0.2.0. Do not use it in production. \n"
     ]
    }
   ],
   "source": [
    "session = Session.builder.configs(SnowflakeLoginOptions('connections.demo')).create()"
   ]
  },
  {
   "cell_type": "code",
   "execution_count": 12,
   "id": "c6aee8c9",
   "metadata": {
    "scrolled": true
   },
   "outputs": [
    {
     "data": {
      "text/plain": [
       "('\"HALU_FT\"', '\"PUBLIC\"')"
      ]
     },
     "execution_count": 12,
     "metadata": {},
     "output_type": "execute_result"
    }
   ],
   "source": [
    "session.get_current_database(), session.get_current_schema()"
   ]
  },
  {
   "cell_type": "code",
   "execution_count": 13,
   "id": "72c16c14",
   "metadata": {},
   "outputs": [],
   "source": [
    "REGISTRY_DATABASE_NAME = \"HALU_MR\"\n",
    "REGISTRY_SCHEMA_NAME = \"PUBLIC\""
   ]
  },
  {
   "cell_type": "code",
   "execution_count": 14,
   "id": "c420807b",
   "metadata": {},
   "outputs": [
    {
     "name": "stderr",
     "output_type": "stream",
     "text": [
      "WARNING:snowflake.snowpark:create_model_registry() is in private preview since 0.2.0. Do not use it in production. \n",
      "WARNING:absl:The schema HALU_MR.PUBLIC already exists. Skipping creation.\n"
     ]
    }
   ],
   "source": [
    "from snowflake.ml.registry import model_registry\n",
    "\n",
    "model_registry.create_model_registry(\n",
    "    session=session, database_name=REGISTRY_DATABASE_NAME, schema_name=REGISTRY_SCHEMA_NAME\n",
    ")\n",
    "registry = model_registry.ModelRegistry(\n",
    "    session=session, database_name=REGISTRY_DATABASE_NAME, schema_name=REGISTRY_SCHEMA_NAME\n",
    ")"
   ]
  },
  {
   "cell_type": "code",
   "execution_count": 15,
   "id": "0adc9637",
   "metadata": {},
   "outputs": [],
   "source": [
    "from snowflake.ml.model.models import llm"
   ]
  },
  {
   "cell_type": "code",
   "execution_count": 17,
   "id": "18323af6",
   "metadata": {},
   "outputs": [],
   "source": [
    "options = llm.LLMOptions(token=\"....\")\n",
    "model = llm.LLM(\n",
    "    model_id_or_path=\"/Users/halu/Downloads/halu_peft_ft\",\n",
    "    options=options\n",
    ")"
   ]
  },
  {
   "cell_type": "code",
   "execution_count": 18,
   "id": "dac3fc56",
   "metadata": {},
   "outputs": [
    {
     "name": "stderr",
     "output_type": "stream",
     "text": [
      "WARNING:snowflake.snowpark:ModelRegistry.log_model() is in private preview since 0.2.0. Do not use it in production. \n",
      "WARNING:snowflake.snowpark:ModelRegistry.list_models() is in private preview since 0.2.0. Do not use it in production. \n"
     ]
    }
   ],
   "source": [
    "svc_model = registry.log_model(\n",
    "    model_name='halu_ft_model_1',\n",
    "    model_version='v1',\n",
    "    model=model,\n",
    "    options={\"embed_local_ml_library\": True},\n",
    ")"
   ]
  },
  {
   "cell_type": "code",
   "execution_count": 27,
   "id": "b17b1fbb",
   "metadata": {},
   "outputs": [
    {
     "name": "stderr",
     "output_type": "stream",
     "text": [
      "WARNING:snowflake.ml.model._deploy_client.snowservice.deploy:Similar environment detected. Using existing image sfengineering-servicesnow.registry.snowflakecomputing.com/halu_ft_db/public/haul_repo/4b7980a43a1ff656d23b9401e4471bcd4f021d39:latest to skip image build. To disable this feature, set 'force_image_build=True' in deployment options\n"
     ]
    },
    {
     "data": {
      "text/plain": [
       "{'name': 'HALU_MR.PUBLIC.halu_ft_deploy_1',\n",
       " 'platform': <TargetPlatform.SNOWPARK_CONTAINER_SERVICES: 'SNOWPARK_CONTAINER_SERVICES'>,\n",
       " 'target_method': 'infer',\n",
       " 'signature': ModelSignature(\n",
       "                     inputs=[\n",
       "                         FeatureSpec(dtype=DataType.STRING, name='input')\n",
       "                     ],\n",
       "                     outputs=[\n",
       "                         FeatureSpec(dtype=DataType.STRING, name='generated_text')\n",
       "                     ]\n",
       "                 ),\n",
       " 'options': {'compute_pool': 'BUILD_2023_POOL',\n",
       "  'num_gpus': 1,\n",
       "  'image_repo': 'sfengineering-servicesnow.registry.snowflakecomputing.com/halu_ft_db/public/haul_repo',\n",
       "  'enable_remote_image_build': True,\n",
       "  'model_in_image': True},\n",
       " 'details': {'image_name': 'sfengineering-servicesnow.registry.snowflakecomputing.com/halu_ft_db/public/haul_repo/4b7980a43a1ff656d23b9401e4471bcd4f021d39:latest',\n",
       "  'service_spec': 'spec:\\n  container:\\n  - env:\\n      NUM_WORKERS: 1\\n      SNOWML_USE_GPU: true\\n      TARGET_METHOD: infer\\n    image: sfengineering-servicesnow.registry.snowflakecomputing.com/halu_ft_db/public/haul_repo/4b7980a43a1ff656d23b9401e4471bcd4f021d39:latest\\n    name: inference-server\\n    readinessProbe:\\n      path: /health\\n      port: 5000\\n    resources:\\n      limits:\\n        nvidia.com/gpu: 1\\n      requests:\\n        nvidia.com/gpu: 1\\n    volumeMounts:\\n    - mountPath: /local/user/vol1\\n      name: vol1\\n  endpoint:\\n  - name: predict\\n    port: 5000\\n  volume:\\n  - name: vol1\\n    source: local\\n',\n",
       "  'service_function_sql': \"\\n            CREATE OR REPLACE FUNCTION HALU_MR.PUBLIC.halu_ft_deploy_1(input OBJECT)\\n                RETURNS OBJECT\\n                SERVICE=HALU_MR.PUBLIC.service_d289e6506e3111eeb21b769aea86b514\\n                ENDPOINT=predict\\n                MAX_BATCH_ROWS = 1\\n                AS '/predict'\\n            \"}}"
      ]
     },
     "execution_count": 27,
     "metadata": {},
     "output_type": "execute_result"
    }
   ],
   "source": [
    "from snowflake.ml.model import deploy_platforms\n",
    "\n",
    "deployment_options = {\n",
    "    \"compute_pool\": 'BUILD_2023_POOL',\n",
    "    \"num_gpus\": 1,\n",
    "    \"image_repo\": 'sfengineering-servicesnow.registry.snowflakecomputing.com/halu_ft_db/public/haul_repo',\n",
    "    \"enable_remote_image_build\": True,\n",
    "    \"model_in_image\": True,\n",
    "}\n",
    "        \n",
    "deploy_info = svc_model.deploy(\n",
    "    deployment_name=\"halu_ft_deploy_1\",\n",
    "    platform=deploy_platforms.TargetPlatform.SNOWPARK_CONTAINER_SERVICES,\n",
    "    permanent=True,\n",
    "    options=deployment_options\n",
    ")\n",
    "deploy_info"
   ]
  },
  {
   "cell_type": "code",
   "execution_count": 28,
   "id": "b25baf1c",
   "metadata": {},
   "outputs": [],
   "source": [
    "sample = \"\"\"\n",
    "[INST] <<SYS>>\n",
    "Below is an instruction that describes a task, paired with an input that provides further context. Write a response that appropriately completes the request.\n",
    "<</SYS>>\n",
    "### Instruction:\n",
    "Extract JSON response with 'location' and 'toy_list' as keys.\n",
    "'location': Location string of the caller.\n",
    "'toy_list\": List of toy names from the caller.\n",
    "### Input:\n",
    "    \"frosty: Hello, good friend! You're talking to Frosty! What's your name?\n",
    "caller: My name's Oliver. And I'm calling from Perth.\n",
    "frosty: Nice to meet you, Oliver from Perth! So, what's on your wish list this year?\n",
    "caller: I want a mickey, please.\n",
    "frosty: Look forward to some Mickey adventures!\"\n",
    "[/INST]\n",
    "\"\"\""
   ]
  },
  {
   "cell_type": "code",
   "execution_count": 24,
   "id": "2a84b44b",
   "metadata": {},
   "outputs": [],
   "source": [
    "import pandas as pd"
   ]
  },
  {
   "cell_type": "code",
   "execution_count": 29,
   "id": "db0e8d17",
   "metadata": {},
   "outputs": [],
   "source": [
    "input_df = pd.DataFrame({'input': [sample, sample, sample]})"
   ]
  },
  {
   "cell_type": "code",
   "execution_count": 30,
   "id": "3a98eabd",
   "metadata": {},
   "outputs": [],
   "source": [
    "res = svc_model.predict(\n",
    "    deployment_name='halu_ft_deploy_1',\n",
    "    data=input_df\n",
    ")"
   ]
  },
  {
   "cell_type": "code",
   "execution_count": 32,
   "id": "f32e6498",
   "metadata": {},
   "outputs": [],
   "source": [
    "pd.set_option('display.max_colwidth', None)"
   ]
  },
  {
   "cell_type": "code",
   "execution_count": 33,
   "id": "a467afb6",
   "metadata": {},
   "outputs": [
    {
     "data": {
      "text/html": [
       "<div>\n",
       "<style scoped>\n",
       "    .dataframe tbody tr th:only-of-type {\n",
       "        vertical-align: middle;\n",
       "    }\n",
       "\n",
       "    .dataframe tbody tr th {\n",
       "        vertical-align: top;\n",
       "    }\n",
       "\n",
       "    .dataframe thead th {\n",
       "        text-align: right;\n",
       "    }\n",
       "</style>\n",
       "<table border=\"1\" class=\"dataframe\">\n",
       "  <thead>\n",
       "    <tr style=\"text-align: right;\">\n",
       "      <th></th>\n",
       "      <th>generated_text</th>\n",
       "    </tr>\n",
       "  </thead>\n",
       "  <tbody>\n",
       "    <tr>\n",
       "      <th>0</th>\n",
       "      <td>{\"toy_list\": [\"Fisher-Price Little People Mickey and Friends\"], \"location\": \"Perth\"}</td>\n",
       "    </tr>\n",
       "    <tr>\n",
       "      <th>1</th>\n",
       "      <td>{\"toy_list\": [\"Fisher-Price Little People Mickey and Friends\"], \"location\": \"Perth\"}</td>\n",
       "    </tr>\n",
       "    <tr>\n",
       "      <th>2</th>\n",
       "      <td>{\"toy_list\": [\"Fisher-Price Little People Mickey and Friends\"], \"location\": \"Perth\"}</td>\n",
       "    </tr>\n",
       "  </tbody>\n",
       "</table>\n",
       "</div>"
      ],
      "text/plain": [
       "                                                                          generated_text\n",
       "0   {\"toy_list\": [\"Fisher-Price Little People Mickey and Friends\"], \"location\": \"Perth\"}\n",
       "1   {\"toy_list\": [\"Fisher-Price Little People Mickey and Friends\"], \"location\": \"Perth\"}\n",
       "2   {\"toy_list\": [\"Fisher-Price Little People Mickey and Friends\"], \"location\": \"Perth\"}"
      ]
     },
     "execution_count": 33,
     "metadata": {},
     "output_type": "execute_result"
    }
   ],
   "source": [
    "res"
   ]
  }
 ],
 "metadata": {
  "kernelspec": {
   "display_name": "Python 3 (ipykernel)",
   "language": "python",
   "name": "python3"
  },
  "language_info": {
   "codemirror_mode": {
    "name": "ipython",
    "version": 3
   },
   "file_extension": ".py",
   "mimetype": "text/x-python",
   "name": "python",
   "nbconvert_exporter": "python",
   "pygments_lexer": "ipython3",
   "version": "3.10.13"
  }
 },
 "nbformat": 4,
 "nbformat_minor": 5
}
