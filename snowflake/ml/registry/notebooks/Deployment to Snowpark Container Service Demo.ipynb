{
 "cells": [
  {
   "cell_type": "markdown",
   "id": "a45960e1",
   "metadata": {},
   "source": [
    "# Deployment to Snowpark Container Service Demo"
   ]
  },
  {
   "cell_type": "markdown",
   "id": "aa7a329a",
   "metadata": {},
   "source": [
    "### Snowflake-ML-Python Installation"
   ]
  },
  {
   "cell_type": "markdown",
   "id": "cb3d7a96",
   "metadata": {},
   "source": [
    "- Please refer to our [landing page](https://docs.snowflake.com/en/developer-guide/snowpark-ml/index) to install `snowflake-ml-python`."
   ]
  },
  {
   "cell_type": "markdown",
   "id": "3b50d774",
   "metadata": {},
   "source": [
    "## Train a model with Snowpark ML API "
   ]
  },
  {
   "cell_type": "code",
   "execution_count": 14,
   "id": "18a75d71",
   "metadata": {},
   "outputs": [],
   "source": [
    "from typing import Tuple\n",
    "from snowflake.ml.modeling import linear_model\n",
    "from sklearn import datasets\n",
    "import pandas as pd\n",
    "import numpy as np\n",
    "\n",
    "def prepare_logistic_model() -> Tuple[linear_model.LogisticRegression, pd.DataFrame]:\n",
    "    iris = datasets.load_iris()\n",
    "    df = pd.DataFrame(data=np.c_[iris[\"data\"], iris[\"target\"]], columns=iris[\"feature_names\"] + [\"target\"])\n",
    "    df.columns = [s.replace(\" (CM)\", \"\").replace(\" \", \"\") for s in df.columns.str.upper()]\n",
    "\n",
    "    input_cols = [\"SEPALLENGTH\", \"SEPALWIDTH\", \"PETALLENGTH\", \"PETALWIDTH\"]\n",
    "    label_cols = \"TARGET\"\n",
    "    output_cols = \"PREDICTED_TARGET\"\n",
    "\n",
    "    estimator = linear_model.LogisticRegression(\n",
    "        input_cols=input_cols, output_cols=output_cols, label_cols=label_cols, random_state=0, max_iter=1000\n",
    "    ).fit(df)\n",
    "\n",
    "    return estimator, df.drop(columns=label_cols).head(10)"
   ]
  },
  {
   "cell_type": "markdown",
   "id": "db6734fa",
   "metadata": {},
   "source": [
    "## Start Snowpark Session"
   ]
  },
  {
   "cell_type": "code",
   "execution_count": 12,
   "id": "58dd3604",
   "metadata": {},
   "outputs": [],
   "source": [
    "from snowflake.ml.utils.connection_params import SnowflakeLoginOptions\n",
    "from snowflake.snowpark import Session\n",
    "\n",
    "session = Session.builder.configs(SnowflakeLoginOptions()).create()\n"
   ]
  },
  {
   "cell_type": "code",
   "execution_count": null,
   "id": "27dfbc42",
   "metadata": {},
   "outputs": [],
   "source": [
    "from snowflake.ml.registry import model_registry\n",
    "from snowflake.ml._internal.utils import identifier\n",
    "\n",
    "db = identifier._get_unescaped_name(session.get_current_database())\n",
    "schema = identifier._get_unescaped_name(session.get_current_schema())\n",
    "\n",
    "# will be a no-op if registry already exists\n",
    "model_registry.create_model_registry(session=session, database_name=db, schema_name=schema) \n",
    "registry = model_registry.ModelRegistry(session=session, database_name=db, schema_name=schema)"
   ]
  },
  {
   "cell_type": "markdown",
   "id": "38e0a975",
   "metadata": {},
   "source": [
    "## Register SnowML Model"
   ]
  },
  {
   "cell_type": "code",
   "execution_count": 11,
   "id": "574e7a43",
   "metadata": {},
   "outputs": [
    {
     "name": "stderr",
     "output_type": "stream",
     "text": [
      "WARNING:snowflake.snowpark:ModelRegistry.log_model() is in private preview since 0.2.0. Do not use it in production. \n",
      "WARNING:snowflake.snowpark:ModelRegistry.list_models() is in private preview since 0.2.0. Do not use it in production. \n"
     ]
    },
    {
     "data": {
      "text/plain": [
       "'0aa236602be711ee89915ac3f3b698e1'"
      ]
     },
     "execution_count": 11,
     "metadata": {},
     "output_type": "execute_result"
    }
   ],
   "source": [
    "logistic_model, test_features = prepare_logistic_model()\n",
    "model_name = \"snowpark_ml_logistic\"\n",
    "model_version = \"v1\"\n",
    "\n",
    "model_ref = registry.log_model(\n",
    "    model_name=model_name,\n",
    "    model_version=model_version,\n",
    "    model=logistic_model,\n",
    "    sample_input_data=test_features,\n",
    ")"
   ]
  },
  {
   "cell_type": "markdown",
   "id": "054a3862",
   "metadata": {},
   "source": [
    "## Model Deployment to Snowpark Container Service"
   ]
  },
  {
   "cell_type": "code",
   "execution_count": 6,
   "id": "72ff114f",
   "metadata": {},
   "outputs": [
    {
     "name": "stderr",
     "output_type": "stream",
     "text": [
      "WARNING:root:Building the Docker image and deploying to Snowpark Container Service. This process may take a few minutes.\n",
      "WARNING:root:Image successfully built! To prevent the need for rebuilding the Docker image in future deployments, simply specify 'prebuilt_snowflake_image': 'temptest002038-servicesnow.registry-dev.snowflakecomputing.com/inference_container_db/inference_container_schema/snowml_repo/42374efe274011eea4ff5ac3f3b698e1:latest' in the options field of the deploy() function\n"
     ]
    }
   ],
   "source": [
    "from snowflake.ml.model import deploy_platforms\n",
    "from snowflake import snowpark\n",
    "\n",
    "compute_pool = \"MY_COMPUTE_POOL\" # Pre-created compute pool\n",
    "deployment_name = \"LOGISTIC_FUNC\" # Name of the resulting UDF\n",
    "\n",
    "model_ref.deploy(\n",
    "    deployment_name=deployment_name, \n",
    "    platform=deploy_platforms.TargetPlatform.SNOWPARK_CONTAINER_SERVICES,\n",
    "    target_method=\"predict\",\n",
    "    options={\n",
    "        \"compute_pool\": compute_pool,\n",
    "        #num_gpus: 1 # Specify the number of GPUs for GPU inferenc\n",
    "    }\n",
    ")"
   ]
  },
  {
   "cell_type": "markdown",
   "id": "1c754e72",
   "metadata": {},
   "source": [
    "## Batch Prediction on Snowpark Container Service"
   ]
  },
  {
   "cell_type": "code",
   "execution_count": 7,
   "id": "a5c02328",
   "metadata": {},
   "outputs": [
    {
     "data": {
      "text/html": [
       "<div>\n",
       "<style scoped>\n",
       "    .dataframe tbody tr th:only-of-type {\n",
       "        vertical-align: middle;\n",
       "    }\n",
       "\n",
       "    .dataframe tbody tr th {\n",
       "        vertical-align: top;\n",
       "    }\n",
       "\n",
       "    .dataframe thead th {\n",
       "        text-align: right;\n",
       "    }\n",
       "</style>\n",
       "<table border=\"1\" class=\"dataframe\">\n",
       "  <thead>\n",
       "    <tr style=\"text-align: right;\">\n",
       "      <th></th>\n",
       "      <th>SEPALLENGTH</th>\n",
       "      <th>SEPALWIDTH</th>\n",
       "      <th>PETALLENGTH</th>\n",
       "      <th>PETALWIDTH</th>\n",
       "      <th>PREDICTED_TARGET</th>\n",
       "    </tr>\n",
       "  </thead>\n",
       "  <tbody>\n",
       "    <tr>\n",
       "      <th>0</th>\n",
       "      <td>5.1</td>\n",
       "      <td>3.5</td>\n",
       "      <td>1.4</td>\n",
       "      <td>0.2</td>\n",
       "      <td>0.0</td>\n",
       "    </tr>\n",
       "    <tr>\n",
       "      <th>1</th>\n",
       "      <td>4.9</td>\n",
       "      <td>3.0</td>\n",
       "      <td>1.4</td>\n",
       "      <td>0.2</td>\n",
       "      <td>0.0</td>\n",
       "    </tr>\n",
       "    <tr>\n",
       "      <th>2</th>\n",
       "      <td>4.7</td>\n",
       "      <td>3.2</td>\n",
       "      <td>1.3</td>\n",
       "      <td>0.2</td>\n",
       "      <td>0.0</td>\n",
       "    </tr>\n",
       "    <tr>\n",
       "      <th>3</th>\n",
       "      <td>4.6</td>\n",
       "      <td>3.1</td>\n",
       "      <td>1.5</td>\n",
       "      <td>0.2</td>\n",
       "      <td>0.0</td>\n",
       "    </tr>\n",
       "    <tr>\n",
       "      <th>4</th>\n",
       "      <td>5.0</td>\n",
       "      <td>3.6</td>\n",
       "      <td>1.4</td>\n",
       "      <td>0.2</td>\n",
       "      <td>0.0</td>\n",
       "    </tr>\n",
       "    <tr>\n",
       "      <th>5</th>\n",
       "      <td>5.4</td>\n",
       "      <td>3.9</td>\n",
       "      <td>1.7</td>\n",
       "      <td>0.4</td>\n",
       "      <td>0.0</td>\n",
       "    </tr>\n",
       "    <tr>\n",
       "      <th>6</th>\n",
       "      <td>4.6</td>\n",
       "      <td>3.4</td>\n",
       "      <td>1.4</td>\n",
       "      <td>0.3</td>\n",
       "      <td>0.0</td>\n",
       "    </tr>\n",
       "    <tr>\n",
       "      <th>7</th>\n",
       "      <td>5.0</td>\n",
       "      <td>3.4</td>\n",
       "      <td>1.5</td>\n",
       "      <td>0.2</td>\n",
       "      <td>0.0</td>\n",
       "    </tr>\n",
       "    <tr>\n",
       "      <th>8</th>\n",
       "      <td>4.4</td>\n",
       "      <td>2.9</td>\n",
       "      <td>1.4</td>\n",
       "      <td>0.2</td>\n",
       "      <td>0.0</td>\n",
       "    </tr>\n",
       "    <tr>\n",
       "      <th>9</th>\n",
       "      <td>4.9</td>\n",
       "      <td>3.1</td>\n",
       "      <td>1.5</td>\n",
       "      <td>0.1</td>\n",
       "      <td>0.0</td>\n",
       "    </tr>\n",
       "  </tbody>\n",
       "</table>\n",
       "</div>"
      ],
      "text/plain": [
       "   SEPALLENGTH  SEPALWIDTH  PETALLENGTH  PETALWIDTH  PREDICTED_TARGET\n",
       "0          5.1         3.5          1.4         0.2               0.0\n",
       "1          4.9         3.0          1.4         0.2               0.0\n",
       "2          4.7         3.2          1.3         0.2               0.0\n",
       "3          4.6         3.1          1.5         0.2               0.0\n",
       "4          5.0         3.6          1.4         0.2               0.0\n",
       "5          5.4         3.9          1.7         0.4               0.0\n",
       "6          4.6         3.4          1.4         0.3               0.0\n",
       "7          5.0         3.4          1.5         0.2               0.0\n",
       "8          4.4         2.9          1.4         0.2               0.0\n",
       "9          4.9         3.1          1.5         0.1               0.0"
      ]
     },
     "execution_count": 7,
     "metadata": {},
     "output_type": "execute_result"
    }
   ],
   "source": [
    "model_ref.predict(deployment_name, test_features)"
   ]
  },
  {
   "cell_type": "code",
   "execution_count": null,
   "id": "12991f07",
   "metadata": {},
   "outputs": [],
   "source": [
    "model_ref.delete_deployment(deployment_name=deployment_name)"
   ]
  },
  {
   "cell_type": "code",
   "execution_count": null,
   "id": "09f337d2",
   "metadata": {},
   "outputs": [],
   "source": [
    "model_ref.delete_model()"
   ]
  }
 ],
 "metadata": {
  "kernelspec": {
   "display_name": "Python [conda env:local_snowml]",
   "language": "python",
   "name": "conda-env-local_snowml-py"
  },
  "language_info": {
   "codemirror_mode": {
    "name": "ipython",
    "version": 3
   },
   "file_extension": ".py",
   "mimetype": "text/x-python",
   "name": "python",
   "nbconvert_exporter": "python",
   "pygments_lexer": "ipython3",
   "version": "3.8.17"
  }
 },
 "nbformat": 4,
 "nbformat_minor": 5
}
