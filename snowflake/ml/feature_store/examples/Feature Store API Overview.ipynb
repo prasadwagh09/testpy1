{
 "cells": [
  {
   "cell_type": "markdown",
   "metadata": {},
   "source": [
    "- Last updated on: 7/10/2024\n",
    "- Required snowflake-ml-python version: >=1.5.4"
   ]
  },
  {
   "cell_type": "markdown",
   "metadata": {},
   "source": [
    "# Feature Store API Overview\n",
    "\n",
    "This notebook provides an overview of Feature Store APIs. It demenstrates how to manage Feature Store, Feature View, Feature Entity and how to generate training dataset etc. The goal is to provide a quick walkthrough of most common APIs. For full list of APIs, please refer to [API Reference page](https://docs.snowflake.com/en/developer-guide/snowpark-ml/reference/latest/feature_store)."
   ]
  },
  {
   "cell_type": "markdown",
   "metadata": {},
   "source": [
    "**Table of contents**:\n",
    "- [Setup test environment](#setup-test-environment)\n",
    "- [Manage features in Feature Store](#manage-features-in-feature-store)\n",
    "  - [Initialize a Feature Store](#initialize-a-feature-store)\n",
    "  - [Create entities](#create-entities)\n",
    "  - [Create feature views](#create-feature-views)\n",
    "  - [Add feature view versions](#add-feature-view-versions)\n",
    "  - [Update feature views](#update-feature-views)\n",
    "  - [Operate feature views](#operate-feature-views)\n",
    "  - [Read values from a feature view](#read-values-from-a-feature-view)\n",
    "  - [Generate training data](#generate-training-data)\n",
    "  - [Delete feature views](#delete-feature-views)\n",
    "  - [Delete entities](#delete-entities)\n",
    "  - [Cleanup Feature Store](#cleanup-feature-store)\n",
    "- [Cleanup notebook](#cleanup-notebook)"
   ]
  },
  {
   "cell_type": "markdown",
   "metadata": {},
   "source": [
    "<a id='setup-test-environment'></a>\n",
    "## Setup test environment\n",
    "\n",
    "Let's start with setting up test environment. We will create a session and a schema. The schema`FS_DEMO_SCHEMA` will be used as the Feature Store. It will be cleaned up at the end of the demo. You need to fill the `connection_parameters` with your Snowflake connection information. Follow this **[guide](https://docs.snowflake.com/en/developer-guide/snowpark/python/creating-session)** for more details about how to connect to Snowflake."
   ]
  },
  {
   "cell_type": "code",
   "execution_count": 2,
   "metadata": {},
   "outputs": [],
   "source": [
    "from snowflake.snowpark import Session\n",
    "\n",
    "connection_parameters = {\n",
    "    \"account\": \"<your snowflake account>\",\n",
    "    \"user\": \"<your snowflake user>\",\n",
    "    \"password\": \"<your snowflake password>\",\n",
    "    \"role\": \"<your snowflake role>\",  # optional\n",
    "    \"warehouse\": \"<your snowflake warehouse>\",  # optional\n",
    "    \"database\": \"<your snowflake database>\",  # optional\n",
    "    \"schema\": \"<your snowflake schema>\",  # optional\n",
    "}\n",
    "\n",
    "session = Session.builder.configs(connection_parameters).create()\n",
    "\n",
    "# Uncomment below lines to specify database/warehouse if not already specified in connection_parameters\n",
    "# session.use_database(<your_database>)\n",
    "# session.use_warehouse(<your_warehouse>)\n",
    "assert session.get_current_database() != None, \"Session must have a database for the demo.\"\n",
    "assert session.get_current_warehouse() != None, \"Session must have a warehouse for the demo.\""
   ]
  },
  {
   "cell_type": "code",
   "execution_count": 3,
   "metadata": {},
   "outputs": [
    {
     "data": {
      "text/plain": [
       "[Row(status='Schema SNOWFLAKE_FEATURE_STORE_NOTEBOOK_DEMO successfully created.')]"
      ]
     },
     "execution_count": 3,
     "metadata": {},
     "output_type": "execute_result"
    }
   ],
   "source": [
    "# The schema where Feature Store will initialize on and test dataset stores.\n",
    "FS_DEMO_SCHEMA = \"SNOWFLAKE_FEATURE_STORE_NOTEBOOK_DEMO\"\n",
    "\n",
    "session.sql(f\"CREATE OR REPLACE SCHEMA {FS_DEMO_SCHEMA}\").collect()"
   ]
  },
  {
   "cell_type": "markdown",
   "metadata": {},
   "source": [
    "We have prepared couple examples which you can find in our [open source repo](https://github.com/snowflakedb/snowflake-ml-python/tree/main/snowflake/ml/feature_store/examples). For each example, it contains the source dataset, feature view and entity defintions which will be used along this demo. Below cell picked one example called \"simple_features\", and `setup_datasets()` will load the dataset into Snowflake."
   ]
  },
  {
   "cell_type": "code",
   "execution_count": 4,
   "metadata": {},
   "outputs": [
    {
     "name": "stdout",
     "output_type": "stream",
     "text": [
      "All examples: ['simple_features']\n"
     ]
    }
   ],
   "source": [
    "from snowflake.ml.feature_store.examples.example_helper import ExampleHelper\n",
    "\n",
    "helper = ExampleHelper(session, session.get_current_database(), FS_DEMO_SCHEMA)\n",
    "print(f\"All examples: {helper.list_examples()}\")\n",
    "\n",
    "helper.select_example('simple_features')\n",
    "source_tables = helper.setup_datasets()"
   ]
  },
  {
   "cell_type": "markdown",
   "metadata": {},
   "source": [
    "We can quickly peek the new generated source tables."
   ]
  },
  {
   "cell_type": "code",
   "execution_count": 5,
   "metadata": {},
   "outputs": [
    {
     "name": "stdout",
     "output_type": "stream",
     "text": [
      "Total rows in \"REGTEST_DB\".SNOWFLAKE_FEATURE_STORE_NOTEBOOK_DEMO.citibike_trips: 85304\n"
     ]
    }
   ],
   "source": [
    "for s in source_tables:\n",
    "    total_rows = session.table(s).count()\n",
    "    print(f\"Total rows in {s}: {total_rows}\")"
   ]
  },
  {
   "cell_type": "markdown",
   "metadata": {},
   "source": [
    "<a id='manage-features-in-feature-store'></a>\n",
    "## Manage features in Feature Store\n",
    "\n",
    "Now we're ready to play Feature Store. Below sections showcase how to create Feature Store, entities, feature views and how to operate them."
   ]
  },
  {
   "cell_type": "markdown",
   "metadata": {},
   "source": [
    "<a id='initialize-a-feature-store'></a>\n",
    "### Initialize a Feature Store\n",
    "\n",
    "Firstly, we create a new or connect to an existing Feature Store."
   ]
  },
  {
   "cell_type": "code",
   "execution_count": 6,
   "metadata": {},
   "outputs": [],
   "source": [
    "from snowflake.ml.feature_store import (\n",
    "    FeatureStore,\n",
    "    FeatureView,\n",
    "    Entity,\n",
    "    CreationMode,\n",
    "    FeatureViewStatus,\n",
    ")\n",
    "\n",
    "fs = FeatureStore(\n",
    "    session=session, \n",
    "    database=session.get_current_database(), \n",
    "    name=FS_DEMO_SCHEMA, \n",
    "    default_warehouse=session.get_current_warehouse(),\n",
    "    creation_mode=CreationMode.CREATE_IF_NOT_EXIST,\n",
    ")"
   ]
  },
  {
   "cell_type": "markdown",
   "metadata": {},
   "source": [
    "<a id='create-entities'></a>\n",
    "### Create entities\n",
    "\n",
    "Before creating feature views, we need to create entities first. Below cell register entities that pre-defined for this example, and loaded by `helper.load_entities()`."
   ]
  },
  {
   "cell_type": "code",
   "execution_count": 7,
   "metadata": {},
   "outputs": [
    {
     "name": "stdout",
     "output_type": "stream",
     "text": [
      "---------------------------------------------------------------------\n",
      "|\"NAME\"          |\"JOIN_KEYS\"         |\"DESC\"          |\"OWNER\"     |\n",
      "---------------------------------------------------------------------\n",
      "|END_STATION_ID  |[\"END_STATION_ID\"]  |End Station Id  |REGTEST_RL  |\n",
      "---------------------------------------------------------------------\n",
      "\n"
     ]
    }
   ],
   "source": [
    "for e in helper.load_entities():\n",
    "    fs.register_entity(e)\n",
    "all_entities_df = fs.list_entities()\n",
    "assert all_entities_df.count() == 1, \"Total 1 entity registered.\"\n",
    "all_entities_df.show()"
   ]
  },
  {
   "cell_type": "markdown",
   "metadata": {},
   "source": [
    "You can get registered entity by name from Feature Store."
   ]
  },
  {
   "cell_type": "code",
   "execution_count": 8,
   "metadata": {},
   "outputs": [],
   "source": [
    "my_entity = fs.get_entity('end_station_id')"
   ]
  },
  {
   "cell_type": "markdown",
   "metadata": {},
   "source": [
    "<a id='create-feature-views'></a>\n",
    "### Create feature views"
   ]
  },
  {
   "cell_type": "markdown",
   "metadata": {},
   "source": [
    "Next, we can register feature views. Feature views are pre-defined in our repository. You can find the definitions [here](https://github.com/snowflakedb/snowflake-ml-python/tree/main/snowflake/ml/feature_store/examples)."
   ]
  },
  {
   "cell_type": "code",
   "execution_count": 9,
   "metadata": {},
   "outputs": [
    {
     "name": "stdout",
     "output_type": "stream",
     "text": [
      "------------------------------------------------------------------------------------------------------\n",
      "|\"NAME\"            |\"VERSION\"  |\"DESC\"                                              |\"REFRESH_FREQ\"  |\n",
      "------------------------------------------------------------------------------------------------------\n",
      "|F_STATION_1D      |1.0        |Managed feature view about trip station refresh...  |1 day           |\n",
      "|F_STATION_STATIC  |1.0        |Static feature view about trip station.             |NULL            |\n",
      "------------------------------------------------------------------------------------------------------\n",
      "\n"
     ]
    }
   ],
   "source": [
    "for fv in helper.load_draft_feature_views():\n",
    "    fs.register_feature_view(\n",
    "        feature_view=fv,\n",
    "        version='1.0'\n",
    "    )\n",
    "\n",
    "all_fvs_df = fs.list_feature_views().select('name', 'version', 'desc', 'refresh_freq')\n",
    "assert all_fvs_df.count() == 2, \"Total 2 feature views registered.\"\n",
    "all_fvs_df.show()"
   ]
  },
  {
   "cell_type": "markdown",
   "metadata": {},
   "source": [
    "<a id='add-feature-view-versions'></a>\n",
    "### Add feature view versions"
   ]
  },
  {
   "cell_type": "markdown",
   "metadata": {},
   "source": [
    "We can also add new version in a feature view by giving same name as existing feature view but different version."
   ]
  },
  {
   "cell_type": "code",
   "execution_count": 10,
   "metadata": {},
   "outputs": [
    {
     "name": "stderr",
     "output_type": "stream",
     "text": [
      "/var/folders/kw/c3pzglr908q2p0w5w9vzhy0m0000gn/T/ipykernel_98082/4158805001.py:2: UserWarning: You must call register_feature_view() to make it effective. Or use update_feature_view(desc=<new_value>).\n",
      "  fv.desc = f'{fv.name}/2.0 with new desc.'\n"
     ]
    },
    {
     "name": "stdout",
     "output_type": "stream",
     "text": [
      "------------------------------------------------------------------------------------------------------\n",
      "|\"NAME\"            |\"VERSION\"  |\"DESC\"                                              |\"REFRESH_FREQ\"  |\n",
      "------------------------------------------------------------------------------------------------------\n",
      "|F_STATION_1D      |1.0        |Managed feature view about trip station refresh...  |1 day           |\n",
      "|F_STATION_1D      |2.0        |F_STATION_1D/2.0 with new desc.                     |1 day           |\n",
      "|F_STATION_STATIC  |1.0        |Static feature view about trip station.             |NULL            |\n",
      "|F_STATION_STATIC  |2.0        |F_STATION_STATIC/2.0 with new desc.                 |NULL            |\n",
      "------------------------------------------------------------------------------------------------------\n",
      "\n"
     ]
    }
   ],
   "source": [
    "for fv in helper.load_draft_feature_views():\n",
    "    fv.desc = f'{fv.name}/2.0 with new desc.'\n",
    "    fs.register_feature_view(\n",
    "        feature_view=fv,\n",
    "        version='2.0'\n",
    "    )\n",
    "\n",
    "all_fvs_df = fs.list_feature_views().select('name', 'version', 'desc', 'refresh_freq')\n",
    "all_fvs_df.show()\n",
    "assert all_fvs_df.count() == 4, \"Total 4 feature views registered.\""
   ]
  },
  {
   "cell_type": "markdown",
   "metadata": {},
   "source": [
    "<a id='update-feature-views'></a>\n",
    "### Update feature views"
   ]
  },
  {
   "cell_type": "markdown",
   "metadata": {},
   "source": [
    "After a feature view registered, it is materialized to Snowflake backend. You can still update some metadata for a registered feature view with `update_feature_view`. Below cell updates the `desc` of a managed feature view. You can check our [API reference](https://docs.snowflake.com/en/developer-guide/snowpark-ml/reference/latest/api/feature_store/snowflake.ml.feature_store.FeatureStore) page to find full list of metadata can be updated."
   ]
  },
  {
   "cell_type": "code",
   "execution_count": 11,
   "metadata": {},
   "outputs": [
    {
     "name": "stdout",
     "output_type": "stream",
     "text": [
      "----------------------------------------------------------------------------------------------------\n",
      "|\"NAME\"        |\"VERSION\"  |\"DESC\"                           |\"REFRESH_FREQ\"  |\"SCHEDULING_STATE\"  |\n",
      "----------------------------------------------------------------------------------------------------\n",
      "|F_STATION_1D  |1.0        |Updated desc for f_station_1d.   |1 day           |ACTIVE              |\n",
      "|F_STATION_1D  |2.0        |F_STATION_1D/2.0 with new desc.  |1 day           |ACTIVE              |\n",
      "----------------------------------------------------------------------------------------------------\n",
      "\n"
     ]
    }
   ],
   "source": [
    "updated_fv = fs.update_feature_view(\n",
    "    name='f_station_1d',\n",
    "    version='1.0',\n",
    "    desc=f'Updated desc for f_station_1d.', \n",
    ")\n",
    "\n",
    "assert updated_fv.desc == 'Updated desc for f_station_1d.'\n",
    "fs.list_feature_views(feature_view_name='f_station_1d') \\\n",
    "    .select('name', 'version', 'desc', 'refresh_freq', 'scheduling_state').show()"
   ]
  },
  {
   "cell_type": "markdown",
   "metadata": {},
   "source": [
    "<a id='operate-feature-views'></a>\n",
    "### Operate feature views\n",
    "\n",
    "For **managed feature views**, you can suspend, resume, or manually refresh the backend pipelines. A managed feature view is an automated feature pipeline that compute the features on a given schedule. You create managed feature view by setting the `refresh_freq`. On the contrast, a **static feature view** is created when `refresh_freq` is set to None."
   ]
  },
  {
   "cell_type": "code",
   "execution_count": 12,
   "metadata": {},
   "outputs": [
    {
     "name": "stdout",
     "output_type": "stream",
     "text": [
      "----------------------------------------------------------------------------------------------------------------\n",
      "|\"NAME\"            |\"VERSION\"  |\"DESC\"                                   |\"REFRESH_FREQ\"  |\"SCHEDULING_STATE\"  |\n",
      "----------------------------------------------------------------------------------------------------------------\n",
      "|F_STATION_1D      |1.0        |Updated desc for f_station_1d.           |1 day           |SUSPENDED           |\n",
      "|F_STATION_1D      |2.0        |F_STATION_1D/2.0 with new desc.          |1 day           |ACTIVE              |\n",
      "|F_STATION_STATIC  |1.0        |Static feature view about trip station.  |NULL            |NULL                |\n",
      "|F_STATION_STATIC  |2.0        |F_STATION_STATIC/2.0 with new desc.      |NULL            |NULL                |\n",
      "----------------------------------------------------------------------------------------------------------------\n",
      "\n"
     ]
    }
   ],
   "source": [
    "registered_fv = fs.get_feature_view('f_station_1d', '1.0')\n",
    "suspended_fv = fs.suspend_feature_view(registered_fv)\n",
    "assert suspended_fv.status == FeatureViewStatus.SUSPENDED\n",
    "fs.list_feature_views().select('name', 'version', 'desc', 'refresh_freq', 'scheduling_state').show()"
   ]
  },
  {
   "cell_type": "code",
   "execution_count": 13,
   "metadata": {},
   "outputs": [
    {
     "name": "stdout",
     "output_type": "stream",
     "text": [
      "----------------------------------------------------------------------------------------------------------------\n",
      "|\"NAME\"            |\"VERSION\"  |\"DESC\"                                   |\"REFRESH_FREQ\"  |\"SCHEDULING_STATE\"  |\n",
      "----------------------------------------------------------------------------------------------------------------\n",
      "|F_STATION_1D      |1.0        |Updated desc for f_station_1d.           |1 day           |ACTIVE              |\n",
      "|F_STATION_1D      |2.0        |F_STATION_1D/2.0 with new desc.          |1 day           |ACTIVE              |\n",
      "|F_STATION_STATIC  |1.0        |Static feature view about trip station.  |NULL            |NULL                |\n",
      "|F_STATION_STATIC  |2.0        |F_STATION_STATIC/2.0 with new desc.      |NULL            |NULL                |\n",
      "----------------------------------------------------------------------------------------------------------------\n",
      "\n"
     ]
    }
   ],
   "source": [
    "resumed_fv = fs.resume_feature_view(suspended_fv)\n",
    "assert resumed_fv.status == FeatureViewStatus.ACTIVE\n",
    "fs.list_feature_views().select('name', 'version', 'desc', 'refresh_freq', 'scheduling_state').show()"
   ]
  },
  {
   "cell_type": "code",
   "execution_count": 14,
   "metadata": {},
   "outputs": [
    {
     "name": "stdout",
     "output_type": "stream",
     "text": [
      "-------------------------------------------------------------------------------------------------------------------------\n",
      "|\"NAME\"            |\"STATE\"    |\"REFRESH_START_TIME\"              |\"REFRESH_END_TIME\"                |\"REFRESH_ACTION\"  |\n",
      "-------------------------------------------------------------------------------------------------------------------------\n",
      "|F_STATION_1D$1.0  |SUCCEEDED  |2024-07-10 14:14:30.963000-07:00  |2024-07-10 14:14:31.684000-07:00  |INCREMENTAL       |\n",
      "-------------------------------------------------------------------------------------------------------------------------\n",
      "\n"
     ]
    }
   ],
   "source": [
    "history_df = fs.get_refresh_history(resumed_fv).order_by('REFRESH_START_TIME')\n",
    "history_df.show()\n",
    "assert history_df.count() == 1, \"Feature view has been refreshed 1 time.\""
   ]
  },
  {
   "cell_type": "markdown",
   "metadata": {},
   "source": [
    "Below cell manually refreshes the feature view. It triggers the feature computation with latest source data. You can check the refreshes history with `get_refresh_history()` and you will see the different result from prevous `get_refresh_history()`."
   ]
  },
  {
   "cell_type": "code",
   "execution_count": 15,
   "metadata": {},
   "outputs": [
    {
     "name": "stdout",
     "output_type": "stream",
     "text": [
      "-------------------------------------------------------------------------------------------------------------------------\n",
      "|\"NAME\"            |\"STATE\"    |\"REFRESH_START_TIME\"              |\"REFRESH_END_TIME\"                |\"REFRESH_ACTION\"  |\n",
      "-------------------------------------------------------------------------------------------------------------------------\n",
      "|F_STATION_1D$1.0  |SUCCEEDED  |2024-07-10 14:14:30.963000-07:00  |2024-07-10 14:14:31.684000-07:00  |INCREMENTAL       |\n",
      "|F_STATION_1D$1.0  |SUCCEEDED  |2024-07-10 14:15:14.269000-07:00  |2024-07-10 14:15:14.687000-07:00  |INCREMENTAL       |\n",
      "-------------------------------------------------------------------------------------------------------------------------\n",
      "\n"
     ]
    }
   ],
   "source": [
    "fs.refresh_feature_view(resumed_fv)\n",
    "history_df = fs.get_refresh_history(resumed_fv).order_by('REFRESH_START_TIME')\n",
    "history_df.show()\n",
    "assert history_df.count() == 2, \"Feature view has been refresh 2 times.\""
   ]
  },
  {
   "cell_type": "markdown",
   "metadata": {},
   "source": [
    "<a id='read-values-from-a-feature-view'></a>\n",
    "### Read values from a feature view "
   ]
  },
  {
   "cell_type": "markdown",
   "metadata": {},
   "source": [
    "You can read the feature value of a registered feature view with `read_feature_view()`."
   ]
  },
  {
   "cell_type": "code",
   "execution_count": 16,
   "metadata": {},
   "outputs": [
    {
     "name": "stdout",
     "output_type": "stream",
     "text": [
      "-------------------------------------------------------------\n",
      "|\"END_STATION_ID\"  |\"F_COUNT_1D\"  |\"F_AVG_TRIPDURATION_1D\"  |\n",
      "-------------------------------------------------------------\n",
      "|505               |483           |733.002070               |\n",
      "|161               |429           |603.533800               |\n",
      "|347               |440           |693.865909               |\n",
      "|466               |425           |572.520000               |\n",
      "|459               |456           |665.528509               |\n",
      "|247               |241           |631.452282               |\n",
      "|127               |481           |603.519751               |\n",
      "|2000              |121           |840.289256               |\n",
      "|514               |272           |947.345588               |\n",
      "|195               |219           |738.191781               |\n",
      "-------------------------------------------------------------\n",
      "\n"
     ]
    }
   ],
   "source": [
    "feature_value_df = fs.read_feature_view(resumed_fv)\n",
    "feature_value_df.show()"
   ]
  },
  {
   "cell_type": "markdown",
   "metadata": {},
   "source": [
    "<a id='generate-training-data'></a>\n",
    "### Generate training data"
   ]
  },
  {
   "cell_type": "markdown",
   "metadata": {},
   "source": [
    "We can generate training data and output as either [Dataset object](https://docs.snowflake.com/en/developer-guide/snowpark-ml/dataset), or as Snowpark DataFrame."
   ]
  },
  {
   "cell_type": "markdown",
   "metadata": {},
   "source": [
    "Below cell creates a spine dataframe by randomly sample some entity keys from source table."
   ]
  },
  {
   "cell_type": "code",
   "execution_count": 17,
   "metadata": {},
   "outputs": [],
   "source": [
    "entity_key_names = ','.join(my_entity.join_keys)\n",
    "spine_df = session.sql(f\"select {entity_key_names} from {source_tables[0]}\").sample(n=1000)"
   ]
  },
  {
   "cell_type": "markdown",
   "metadata": {},
   "source": [
    "With `generate_dataset()` it outputs a [Dataset object](https://docs.snowflake.com/en/developer-guide/snowpark-ml/dataset)."
   ]
  },
  {
   "cell_type": "code",
   "execution_count": 18,
   "metadata": {},
   "outputs": [],
   "source": [
    "training_fv = fs.get_feature_view('f_station_1d', '1.0')\n",
    "\n",
    "my_dataset = fs.generate_dataset(\n",
    "    name='my_cool_dataset',\n",
    "    version='first',\n",
    "    spine_df=spine_df,\n",
    "    features=[training_fv],\n",
    "    desc='This is my dataset joined with feature views',\n",
    ")"
   ]
  },
  {
   "cell_type": "markdown",
   "metadata": {},
   "source": [
    "Convert dataset to Pandas DataFrame and peek first 10 rows."
   ]
  },
  {
   "cell_type": "code",
   "execution_count": 19,
   "metadata": {},
   "outputs": [
    {
     "data": {
      "text/html": [
       "<div>\n",
       "<style scoped>\n",
       "    .dataframe tbody tr th:only-of-type {\n",
       "        vertical-align: middle;\n",
       "    }\n",
       "\n",
       "    .dataframe tbody tr th {\n",
       "        vertical-align: top;\n",
       "    }\n",
       "\n",
       "    .dataframe thead th {\n",
       "        text-align: right;\n",
       "    }\n",
       "</style>\n",
       "<table border=\"1\" class=\"dataframe\">\n",
       "  <thead>\n",
       "    <tr style=\"text-align: right;\">\n",
       "      <th></th>\n",
       "      <th>END_STATION_ID</th>\n",
       "      <th>F_COUNT_1D</th>\n",
       "      <th>F_AVG_TRIPDURATION_1D</th>\n",
       "    </tr>\n",
       "  </thead>\n",
       "  <tbody>\n",
       "    <tr>\n",
       "      <th>0</th>\n",
       "      <td>309</td>\n",
       "      <td>174</td>\n",
       "      <td>1078.988525</td>\n",
       "    </tr>\n",
       "    <tr>\n",
       "      <th>1</th>\n",
       "      <td>2004</td>\n",
       "      <td>226</td>\n",
       "      <td>919.442505</td>\n",
       "    </tr>\n",
       "    <tr>\n",
       "      <th>2</th>\n",
       "      <td>495</td>\n",
       "      <td>240</td>\n",
       "      <td>650.279175</td>\n",
       "    </tr>\n",
       "    <tr>\n",
       "      <th>3</th>\n",
       "      <td>250</td>\n",
       "      <td>175</td>\n",
       "      <td>607.251404</td>\n",
       "    </tr>\n",
       "    <tr>\n",
       "      <th>4</th>\n",
       "      <td>3002</td>\n",
       "      <td>253</td>\n",
       "      <td>767.241089</td>\n",
       "    </tr>\n",
       "    <tr>\n",
       "      <th>5</th>\n",
       "      <td>350</td>\n",
       "      <td>258</td>\n",
       "      <td>625.224792</td>\n",
       "    </tr>\n",
       "    <tr>\n",
       "      <th>6</th>\n",
       "      <td>228</td>\n",
       "      <td>236</td>\n",
       "      <td>1166.860229</td>\n",
       "    </tr>\n",
       "    <tr>\n",
       "      <th>7</th>\n",
       "      <td>521</td>\n",
       "      <td>956</td>\n",
       "      <td>667.517761</td>\n",
       "    </tr>\n",
       "    <tr>\n",
       "      <th>8</th>\n",
       "      <td>523</td>\n",
       "      <td>541</td>\n",
       "      <td>662.408508</td>\n",
       "    </tr>\n",
       "    <tr>\n",
       "      <th>9</th>\n",
       "      <td>521</td>\n",
       "      <td>956</td>\n",
       "      <td>667.517761</td>\n",
       "    </tr>\n",
       "  </tbody>\n",
       "</table>\n",
       "</div>"
      ],
      "text/plain": [
       "   END_STATION_ID  F_COUNT_1D  F_AVG_TRIPDURATION_1D\n",
       "0             309         174            1078.988525\n",
       "1            2004         226             919.442505\n",
       "2             495         240             650.279175\n",
       "3             250         175             607.251404\n",
       "4            3002         253             767.241089\n",
       "5             350         258             625.224792\n",
       "6             228         236            1166.860229\n",
       "7             521         956             667.517761\n",
       "8             523         541             662.408508\n",
       "9             521         956             667.517761"
      ]
     },
     "execution_count": 19,
     "metadata": {},
     "output_type": "execute_result"
    }
   ],
   "source": [
    "my_dataset.read.to_pandas().head(10)"
   ]
  },
  {
   "cell_type": "markdown",
   "metadata": {},
   "source": [
    "With `generate_training_set()`, it outputs a Dataframe."
   ]
  },
  {
   "cell_type": "code",
   "execution_count": 20,
   "metadata": {},
   "outputs": [
    {
     "name": "stdout",
     "output_type": "stream",
     "text": [
      "-------------------------------------------------------------\n",
      "|\"END_STATION_ID\"  |\"F_COUNT_1D\"  |\"F_AVG_TRIPDURATION_1D\"  |\n",
      "-------------------------------------------------------------\n",
      "|442               |458           |627.288210               |\n",
      "|359               |315           |613.644444               |\n",
      "|483               |105           |590.257143               |\n",
      "|454               |169           |759.047337               |\n",
      "|442               |458           |627.288210               |\n",
      "|472               |432           |533.761574               |\n",
      "|72                |271           |859.778598               |\n",
      "|337               |112           |946.883929               |\n",
      "|545               |375           |632.749333               |\n",
      "|356               |167           |799.245509               |\n",
      "-------------------------------------------------------------\n",
      "\n"
     ]
    }
   ],
   "source": [
    "training_data_df = fs.generate_training_set(\n",
    "    spine_df=spine_df,\n",
    "    features=[training_fv]\n",
    ")\n",
    "\n",
    "training_data_df.show()"
   ]
  },
  {
   "cell_type": "markdown",
   "metadata": {},
   "source": [
    "<a id='delete-feature-views'></a>\n",
    "### Delete feature views\n",
    "\n",
    "Feature views can be deleted via `delete_feature_view()`."
   ]
  },
  {
   "cell_type": "code",
   "execution_count": 21,
   "metadata": {},
   "outputs": [
    {
     "name": "stdout",
     "output_type": "stream",
     "text": [
      "----------------------\n",
      "|\"NAME\"  |\"VERSION\"  |\n",
      "----------------------\n",
      "|        |           |\n",
      "----------------------\n",
      "\n"
     ]
    }
   ],
   "source": [
    "for row in fs.list_feature_views().collect():\n",
    "    fv = fs.get_feature_view(row['NAME'], row['VERSION'])\n",
    "    fs.delete_feature_view(fv)\n",
    "\n",
    "all_fvs_df = fs.list_feature_views().select('name', 'version') \n",
    "assert all_fvs_df.count() == 0, \"0 feature views left after deletion.\"\n",
    "all_fvs_df.show()"
   ]
  },
  {
   "cell_type": "markdown",
   "metadata": {},
   "source": [
    "<a id='delete-entities'></a>\n",
    "### Delete entities"
   ]
  },
  {
   "cell_type": "markdown",
   "metadata": {},
   "source": [
    "You can delete entity with `delete_entity()`. Note it will check whether there're feature views registered on this entity before it gets deleted, otherwise the deletion will fail."
   ]
  },
  {
   "cell_type": "code",
   "execution_count": 22,
   "metadata": {},
   "outputs": [
    {
     "name": "stdout",
     "output_type": "stream",
     "text": [
      "-------------------------------------------\n",
      "|\"NAME\"  |\"JOIN_KEYS\"  |\"DESC\"  |\"OWNER\"  |\n",
      "-------------------------------------------\n",
      "|        |             |        |         |\n",
      "-------------------------------------------\n",
      "\n"
     ]
    }
   ],
   "source": [
    "for row in fs.list_entities().collect():\n",
    "    fs.delete_entity(row['NAME'])\n",
    "\n",
    "all_entities_df = fs.list_entities()\n",
    "assert all_entities_df.count() == 0, \"0 entities after deletion.\"\n",
    "all_entities_df.show()"
   ]
  },
  {
   "cell_type": "markdown",
   "metadata": {},
   "source": [
    "<a id='cleanup-feature-store'></a>\n",
    "### Cleanup Feature Store (experimental) \n",
    "\n",
    "Currently we provide an experimental API to delete all entities and feature views in a Feature Store. If `dryrun` sets to True (the default) then it only prints objects will be deleted. Otherwise it performs the deletion. "
   ]
  },
  {
   "cell_type": "code",
   "execution_count": 23,
   "metadata": {},
   "outputs": [
    {
     "name": "stderr",
     "output_type": "stream",
     "text": [
      "/Users/wezhou/code/snowml-2/snowflake/ml/feature_store/feature_store.py:189: UserWarning: It will clear ALL feature views and entities in this Feature Store. Make sure your role has sufficient access to all feature views and entities. Insufficient access to some feature views or entities will leave Feature Store in an incomplete state.\n",
      "  return f(self, *args, **kargs)\n"
     ]
    }
   ],
   "source": [
    "fs._clear(dryrun=False)\n",
    "\n",
    "assert fs.list_feature_views().count() == 0, \"0 feature views left after deletion.\"\n",
    "assert fs.list_entities().count() == 0, \"0 entities left after deletion.\""
   ]
  },
  {
   "cell_type": "markdown",
   "metadata": {},
   "source": [
    "<a id='cleanup-notebook'></a>\n",
    "## Cleanup notebook"
   ]
  },
  {
   "cell_type": "code",
   "execution_count": 24,
   "metadata": {},
   "outputs": [
    {
     "data": {
      "text/plain": [
       "[Row(status='SNOWFLAKE_FEATURE_STORE_NOTEBOOK_DEMO successfully dropped.')]"
      ]
     },
     "execution_count": 24,
     "metadata": {},
     "output_type": "execute_result"
    }
   ],
   "source": [
    "session.sql(f\"DROP SCHEMA IF EXISTS {FS_DEMO_SCHEMA}\").collect()"
   ]
  }
 ],
 "metadata": {
  "kernelspec": {
   "display_name": "Python 3 (ipykernel)",
   "language": "python",
   "name": "python3"
  },
  "language_info": {
   "codemirror_mode": {
    "name": "ipython",
    "version": 3
   },
   "file_extension": ".py",
   "mimetype": "text/x-python",
   "name": "python",
   "nbconvert_exporter": "python",
   "pygments_lexer": "ipython3",
   "version": "3.8.19"
  }
 },
 "nbformat": 4,
 "nbformat_minor": 4
}
